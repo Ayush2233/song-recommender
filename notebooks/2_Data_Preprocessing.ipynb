{
 "cells": [
  {
   "cell_type": "markdown",
   "metadata": {},
   "source": [
    "# 2 - Data Preprocessing\n"
   ]
  },
  {
   "cell_type": "markdown",
   "metadata": {},
   "source": [
    "## Import Libraries"
   ]
  },
  {
   "cell_type": "code",
   "execution_count": 3,
   "metadata": {},
   "outputs": [],
   "source": [
    "import pandas as pd"
   ]
  },
  {
   "cell_type": "markdown",
   "metadata": {},
   "source": [
    "## Load Datasets\n"
   ]
  },
  {
   "cell_type": "code",
   "execution_count": 4,
   "metadata": {},
   "outputs": [
    {
     "data": {
      "text/html": [
       "<div>\n",
       "<style scoped>\n",
       "    .dataframe tbody tr th:only-of-type {\n",
       "        vertical-align: middle;\n",
       "    }\n",
       "\n",
       "    .dataframe tbody tr th {\n",
       "        vertical-align: top;\n",
       "    }\n",
       "\n",
       "    .dataframe thead th {\n",
       "        text-align: right;\n",
       "    }\n",
       "</style>\n",
       "<table border=\"1\" class=\"dataframe\">\n",
       "  <thead>\n",
       "    <tr style=\"text-align: right;\">\n",
       "      <th></th>\n",
       "      <th>title</th>\n",
       "      <th>artist</th>\n",
       "    </tr>\n",
       "  </thead>\n",
       "  <tbody>\n",
       "    <tr>\n",
       "      <th>0</th>\n",
       "      <td>Vampire</td>\n",
       "      <td>Olivia Rodrigo</td>\n",
       "    </tr>\n",
       "    <tr>\n",
       "      <th>1</th>\n",
       "      <td>Paint The Town Red</td>\n",
       "      <td>Doja Cat</td>\n",
       "    </tr>\n",
       "    <tr>\n",
       "      <th>2</th>\n",
       "      <td>I Remember Everything</td>\n",
       "      <td>Zach Bryan Featuring Kacey Musgraves</td>\n",
       "    </tr>\n",
       "    <tr>\n",
       "      <th>3</th>\n",
       "      <td>Fast Car</td>\n",
       "      <td>Luke Combs</td>\n",
       "    </tr>\n",
       "    <tr>\n",
       "      <th>4</th>\n",
       "      <td>Cruel Summer</td>\n",
       "      <td>Taylor Swift</td>\n",
       "    </tr>\n",
       "  </tbody>\n",
       "</table>\n",
       "</div>"
      ],
      "text/plain": [
       "                   title                                artist\n",
       "0                Vampire                        Olivia Rodrigo\n",
       "1     Paint The Town Red                              Doja Cat\n",
       "2  I Remember Everything  Zach Bryan Featuring Kacey Musgraves\n",
       "3               Fast Car                            Luke Combs\n",
       "4           Cruel Summer                          Taylor Swift"
      ]
     },
     "metadata": {},
     "output_type": "display_data"
    },
    {
     "name": "stdout",
     "output_type": "stream",
     "text": [
      "(100, 2)\n"
     ]
    },
    {
     "data": {
      "text/html": [
       "<div>\n",
       "<style scoped>\n",
       "    .dataframe tbody tr th:only-of-type {\n",
       "        vertical-align: middle;\n",
       "    }\n",
       "\n",
       "    .dataframe tbody tr th {\n",
       "        vertical-align: top;\n",
       "    }\n",
       "\n",
       "    .dataframe thead th {\n",
       "        text-align: right;\n",
       "    }\n",
       "</style>\n",
       "<table border=\"1\" class=\"dataframe\">\n",
       "  <thead>\n",
       "    <tr style=\"text-align: right;\">\n",
       "      <th></th>\n",
       "      <th>title</th>\n",
       "      <th>artist</th>\n",
       "    </tr>\n",
       "  </thead>\n",
       "  <tbody>\n",
       "    <tr>\n",
       "      <th>0</th>\n",
       "      <td>b'Je Sais Que La Terre Est Plate'</td>\n",
       "      <td>b'Rapha\\xc3\\xabl'</td>\n",
       "    </tr>\n",
       "    <tr>\n",
       "      <th>1</th>\n",
       "      <td>b'On Efface'</td>\n",
       "      <td>b'Julie Zenatti'</td>\n",
       "    </tr>\n",
       "    <tr>\n",
       "      <th>2</th>\n",
       "      <td>b'Howells Delight'</td>\n",
       "      <td>b'The Baltimore Consort'</td>\n",
       "    </tr>\n",
       "    <tr>\n",
       "      <th>3</th>\n",
       "      <td>b'Martha Served'</td>\n",
       "      <td>b'I Hate Sally'</td>\n",
       "    </tr>\n",
       "    <tr>\n",
       "      <th>4</th>\n",
       "      <td>b'Zip-A-Dee-Doo-Dah (Song of the South)'</td>\n",
       "      <td>b'Orlando Pops Orchestra'</td>\n",
       "    </tr>\n",
       "  </tbody>\n",
       "</table>\n",
       "</div>"
      ],
      "text/plain": [
       "                                      title                     artist\n",
       "0         b'Je Sais Que La Terre Est Plate'          b'Rapha\\xc3\\xabl'\n",
       "1                              b'On Efface'           b'Julie Zenatti'\n",
       "2                        b'Howells Delight'   b'The Baltimore Consort'\n",
       "3                          b'Martha Served'            b'I Hate Sally'\n",
       "4  b'Zip-A-Dee-Doo-Dah (Song of the South)'  b'Orlando Pops Orchestra'"
      ]
     },
     "metadata": {},
     "output_type": "display_data"
    },
    {
     "name": "stdout",
     "output_type": "stream",
     "text": [
      "(10000, 2)\n"
     ]
    }
   ],
   "source": [
    "# Read in the dataframes\n",
    "hot100_df = pd.read_csv('../data/1_hot100_raw.csv', sep=';')\n",
    "mss_df = pd.read_csv('../data/2_million_song_subset_raw.csv', sep=';')\n",
    "\n",
    "# Show the first 5 rows and shape of each dataframe\n",
    "display(hot100_df.head())\n",
    "print(hot100_df.shape)\n",
    "\n",
    "display(mss_df.head())\n",
    "print(mss_df.shape)"
   ]
  },
  {
   "cell_type": "markdown",
   "metadata": {},
   "source": [
    "## Clean MillionSongSubset df"
   ]
  },
  {
   "cell_type": "code",
   "execution_count": 5,
   "metadata": {},
   "outputs": [
    {
     "data": {
      "text/html": [
       "<div>\n",
       "<style scoped>\n",
       "    .dataframe tbody tr th:only-of-type {\n",
       "        vertical-align: middle;\n",
       "    }\n",
       "\n",
       "    .dataframe tbody tr th {\n",
       "        vertical-align: top;\n",
       "    }\n",
       "\n",
       "    .dataframe thead th {\n",
       "        text-align: right;\n",
       "    }\n",
       "</style>\n",
       "<table border=\"1\" class=\"dataframe\">\n",
       "  <thead>\n",
       "    <tr style=\"text-align: right;\">\n",
       "      <th></th>\n",
       "      <th>title</th>\n",
       "      <th>artist</th>\n",
       "    </tr>\n",
       "  </thead>\n",
       "  <tbody>\n",
       "    <tr>\n",
       "      <th>0</th>\n",
       "      <td>Je Sais Que La Terre Est Plate</td>\n",
       "      <td>Rapha\\xc3\\xal</td>\n",
       "    </tr>\n",
       "    <tr>\n",
       "      <th>1</th>\n",
       "      <td>On Efface</td>\n",
       "      <td>Julie Zenatti</td>\n",
       "    </tr>\n",
       "    <tr>\n",
       "      <th>2</th>\n",
       "      <td>Howells Delight</td>\n",
       "      <td>The Baltimore Consort</td>\n",
       "    </tr>\n",
       "    <tr>\n",
       "      <th>3</th>\n",
       "      <td>Martha Served</td>\n",
       "      <td>I Hate Sally</td>\n",
       "    </tr>\n",
       "    <tr>\n",
       "      <th>4</th>\n",
       "      <td>Zip-A-Dee-Doo-Dah (Song of the South)</td>\n",
       "      <td>Orlando Pops Orchestra</td>\n",
       "    </tr>\n",
       "  </tbody>\n",
       "</table>\n",
       "</div>"
      ],
      "text/plain": [
       "                                   title                  artist\n",
       "0         Je Sais Que La Terre Est Plate           Rapha\\xc3\\xal\n",
       "1                              On Efface           Julie Zenatti\n",
       "2                        Howells Delight   The Baltimore Consort\n",
       "3                          Martha Served            I Hate Sally\n",
       "4  Zip-A-Dee-Doo-Dah (Song of the South)  Orlando Pops Orchestra"
      ]
     },
     "execution_count": 5,
     "metadata": {},
     "output_type": "execute_result"
    }
   ],
   "source": [
    "# Create a copy of the dataframe\n",
    "mss_clean_df = mss_df.copy()\n",
    "\n",
    "# Define column type as string\n",
    "mss_clean_df['title'] = mss_clean_df['title'].astype(str)\n",
    "mss_clean_df['artist'] = mss_clean_df['artist'].astype(str)\n",
    "\n",
    "# Clean titles and artists by replacing extra characters: \"'\" and \"b\"\n",
    "mss_clean_df['title'] = mss_clean_df['title'].str.replace('b|\\'', '', regex = True)\n",
    "mss_clean_df['artist'] = mss_clean_df['artist'].str.replace('b|\\'', '', regex = True)\n",
    "\n",
    "# Show first 5 rows\n",
    "mss_clean_df.head()"
   ]
  },
  {
   "cell_type": "markdown",
   "metadata": {},
   "source": [
    "## Combine Datasets & Drop Duplicate Rows"
   ]
  },
  {
   "cell_type": "code",
   "execution_count": 6,
   "metadata": {},
   "outputs": [
    {
     "data": {
      "text/plain": [
       "(10042, 3)"
      ]
     },
     "execution_count": 6,
     "metadata": {},
     "output_type": "execute_result"
    }
   ],
   "source": [
    "# Create a new column called 'is_hot' for both dataframes\n",
    "mss_clean_df['is_hot'] = False\n",
    "hot100_df['is_hot'] = True\n",
    "\n",
    "# Concatenate the two dataframes, ignoring the index\n",
    "combined_df = pd.concat([mss_clean_df, hot100_df], ignore_index=True)\n",
    "\n",
    "# Drop duplicates\n",
    "combined_df = combined_df.drop_duplicates(subset=['artist', 'title'])\n",
    "\n",
    "# Show shape\n",
    "combined_df.shape"
   ]
  },
  {
   "cell_type": "markdown",
   "metadata": {},
   "source": [
    "## Save Combined Clean Dataset"
   ]
  },
  {
   "cell_type": "code",
   "execution_count": 7,
   "metadata": {},
   "outputs": [],
   "source": [
    "# Save the dataframe to a csv file\n",
    "combined_df.to_csv('../data/3_combined_clean_dataset.csv', sep=';', index=False)"
   ]
  }
 ],
 "metadata": {
  "kernelspec": {
   "display_name": "venv",
   "language": "python",
   "name": "python3"
  },
  "language_info": {
   "codemirror_mode": {
    "name": "ipython",
    "version": 3
   },
   "file_extension": ".py",
   "mimetype": "text/x-python",
   "name": "python",
   "nbconvert_exporter": "python",
   "pygments_lexer": "ipython3",
   "version": "3.10.12"
  },
  "orig_nbformat": 4
 },
 "nbformat": 4,
 "nbformat_minor": 2
}
