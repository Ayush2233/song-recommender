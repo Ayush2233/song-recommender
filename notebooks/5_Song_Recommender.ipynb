{
 "cells": [
  {
   "cell_type": "markdown",
   "id": "2e37cb2c-8b50-4984-9b3c-6bf8d4b6331e",
   "metadata": {},
   "source": [
    "# Song Recommender Project"
   ]
  },
  {
   "cell_type": "markdown",
   "id": "3dd45520-3d6b-4825-be6e-6d1ab88a4235",
   "metadata": {},
   "source": [
    "## Import libraries"
   ]
  },
  {
   "cell_type": "code",
   "execution_count": 1,
   "id": "2955e1f4-c6b0-490f-b51f-251d0001fd47",
   "metadata": {},
   "outputs": [],
   "source": [
    "import os\n",
    "import pandas as pd\n",
    "\n",
    "# Define the root path\n",
    "root_path = '../'\n",
    "\n",
    "# Change the current working directory to the root path\n",
    "os.chdir(root_path)\n",
    "\n",
    "import utils.functions as f"
   ]
  },
  {
   "cell_type": "markdown",
   "id": "6ef7bf5f",
   "metadata": {},
   "source": [
    "## Model selection"
   ]
  },
  {
   "cell_type": "code",
   "execution_count": 2,
   "id": "d1edf3e6-9501-406c-8336-5abd96454b1a",
   "metadata": {},
   "outputs": [],
   "source": [
    "# Select model\n",
    "selected_model_name = 'kmeans_17' # 'kmeans_8'"
   ]
  },
  {
   "cell_type": "markdown",
   "id": "64ef070c-9840-4868-aa7c-4ea39fa60ebe",
   "metadata": {},
   "source": [
    "## Define user input settings"
   ]
  },
  {
   "cell_type": "code",
   "execution_count": 3,
   "id": "0fe8ab94-a36b-4cfd-99bb-2116a787b51e",
   "metadata": {},
   "outputs": [],
   "source": [
    "# Title & artist input by user\n",
    "user_input_title = 'Last Night'\n",
    "user_input_artist = ''"
   ]
  },
  {
   "cell_type": "markdown",
   "id": "7a014d05-8158-40c7-a6ac-a6190ff55a37",
   "metadata": {},
   "source": [
    "## Get input song data"
   ]
  },
  {
   "cell_type": "code",
   "execution_count": 4,
   "id": "19b1ab7e-dd5e-451b-8d22-2345e2d6a8e3",
   "metadata": {},
   "outputs": [],
   "source": [
    "# Get spotify data including track_id\n",
    "sp_song_data = f.search_song(user_input_title, user_input_artist)"
   ]
  },
  {
   "cell_type": "markdown",
   "id": "03d66981-f913-4090-8e16-c2c9f6591f8e",
   "metadata": {},
   "source": [
    "## User song selection"
   ]
  },
  {
   "cell_type": "code",
   "execution_count": 5,
   "id": "d2fe82ee-dd58-4ab2-9d40-26a34e252742",
   "metadata": {},
   "outputs": [],
   "source": [
    "# User selects index of Spotify search results\n",
    "user_song_selection = 0\n",
    "track_id = sp_song_data[user_song_selection]['track_id']"
   ]
  },
  {
   "cell_type": "markdown",
   "id": "625919bf-1769-4b6a-8022-83bc364e4093",
   "metadata": {},
   "source": [
    "## Song recommendation"
   ]
  },
  {
   "cell_type": "code",
   "execution_count": 6,
   "id": "d6b728f1-fb2f-404f-8eaa-20df1046a81b",
   "metadata": {},
   "outputs": [
    {
     "name": "stdout",
     "output_type": "stream",
     "text": [
      "Audio features download complete. Success rate: 100 %\n",
      "Succesful downloads: 1 Failed downloads: 0\n"
     ]
    },
    {
     "data": {
      "text/html": [
       "<div>\n",
       "<style scoped>\n",
       "    .dataframe tbody tr th:only-of-type {\n",
       "        vertical-align: middle;\n",
       "    }\n",
       "\n",
       "    .dataframe tbody tr th {\n",
       "        vertical-align: top;\n",
       "    }\n",
       "\n",
       "    .dataframe thead th {\n",
       "        text-align: right;\n",
       "    }\n",
       "</style>\n",
       "<table border=\"1\" class=\"dataframe\">\n",
       "  <thead>\n",
       "    <tr style=\"text-align: right;\">\n",
       "      <th></th>\n",
       "      <th>track_id</th>\n",
       "      <th>href</th>\n",
       "      <th>track_link</th>\n",
       "      <th>track_name</th>\n",
       "      <th>artist</th>\n",
       "      <th>album_name</th>\n",
       "      <th>album_release_year</th>\n",
       "      <th>track_duration</th>\n",
       "      <th>album_image</th>\n",
       "      <th>popularity</th>\n",
       "      <th>...</th>\n",
       "      <th>key</th>\n",
       "      <th>liveness</th>\n",
       "      <th>loudness</th>\n",
       "      <th>mode</th>\n",
       "      <th>speechiness</th>\n",
       "      <th>tempo</th>\n",
       "      <th>time_signature</th>\n",
       "      <th>valence</th>\n",
       "      <th>clusters_kmeans_8</th>\n",
       "      <th>clusters_kmeans_17</th>\n",
       "    </tr>\n",
       "  </thead>\n",
       "  <tbody>\n",
       "    <tr>\n",
       "      <th>5631</th>\n",
       "      <td>0bILU0UiNDmA5Ff6whhb2R</td>\n",
       "      <td>https://api.spotify.com/v1/tracks/0bILU0UiNDmA...</td>\n",
       "      <td>https://open.spotify.com/track/0bILU0UiNDmA5Ff...</td>\n",
       "      <td>Religiously</td>\n",
       "      <td>Bailey Zimmerman</td>\n",
       "      <td>Religiously. The Album.</td>\n",
       "      <td>2023-05-12</td>\n",
       "      <td>179</td>\n",
       "      <td>https://i.scdn.co/image/ab67616d00001e020c5d03...</td>\n",
       "      <td>85</td>\n",
       "      <td>...</td>\n",
       "      <td>1</td>\n",
       "      <td>0.108</td>\n",
       "      <td>-6.519</td>\n",
       "      <td>1</td>\n",
       "      <td>0.0274</td>\n",
       "      <td>140.924</td>\n",
       "      <td>4</td>\n",
       "      <td>0.593</td>\n",
       "      <td>6</td>\n",
       "      <td>4</td>\n",
       "    </tr>\n",
       "    <tr>\n",
       "      <th>5623</th>\n",
       "      <td>2gyxAWHebV7xPYVxqoi86f</td>\n",
       "      <td>https://api.spotify.com/v1/tracks/2gyxAWHebV7x...</td>\n",
       "      <td>https://open.spotify.com/track/2gyxAWHebV7xPYV...</td>\n",
       "      <td>get him back!</td>\n",
       "      <td>Olivia Rodrigo</td>\n",
       "      <td>GUTS</td>\n",
       "      <td>2023-09-08</td>\n",
       "      <td>211</td>\n",
       "      <td>https://i.scdn.co/image/ab67616d00001e02e85259...</td>\n",
       "      <td>91</td>\n",
       "      <td>...</td>\n",
       "      <td>5</td>\n",
       "      <td>0.607</td>\n",
       "      <td>-5.719</td>\n",
       "      <td>1</td>\n",
       "      <td>0.1810</td>\n",
       "      <td>162.043</td>\n",
       "      <td>4</td>\n",
       "      <td>0.740</td>\n",
       "      <td>4</td>\n",
       "      <td>4</td>\n",
       "    </tr>\n",
       "    <tr>\n",
       "      <th>5617</th>\n",
       "      <td>1BxfuPKGuaTgP7aM0Bbdwr</td>\n",
       "      <td>https://api.spotify.com/v1/tracks/1BxfuPKGuaTg...</td>\n",
       "      <td>https://open.spotify.com/track/1BxfuPKGuaTgP7a...</td>\n",
       "      <td>Cruel Summer</td>\n",
       "      <td>Taylor Swift</td>\n",
       "      <td>Lover</td>\n",
       "      <td>2019-08-23</td>\n",
       "      <td>178</td>\n",
       "      <td>https://i.scdn.co/image/ab67616d00001e02e787cf...</td>\n",
       "      <td>99</td>\n",
       "      <td>...</td>\n",
       "      <td>9</td>\n",
       "      <td>0.105</td>\n",
       "      <td>-5.707</td>\n",
       "      <td>1</td>\n",
       "      <td>0.1570</td>\n",
       "      <td>169.994</td>\n",
       "      <td>4</td>\n",
       "      <td>0.564</td>\n",
       "      <td>4</td>\n",
       "      <td>4</td>\n",
       "    </tr>\n",
       "    <tr>\n",
       "      <th>5638</th>\n",
       "      <td>5twSy6ffBrF03mnNUsUgJZ</td>\n",
       "      <td>https://api.spotify.com/v1/tracks/5twSy6ffBrF0...</td>\n",
       "      <td>https://open.spotify.com/track/5twSy6ffBrF03mn...</td>\n",
       "      <td>Need A Favor</td>\n",
       "      <td>Jelly Roll</td>\n",
       "      <td>Whitsitt Chapel</td>\n",
       "      <td>2023-06-02</td>\n",
       "      <td>197</td>\n",
       "      <td>https://i.scdn.co/image/ab67616d00001e02a72bd2...</td>\n",
       "      <td>80</td>\n",
       "      <td>...</td>\n",
       "      <td>6</td>\n",
       "      <td>0.078</td>\n",
       "      <td>-4.231</td>\n",
       "      <td>1</td>\n",
       "      <td>0.0319</td>\n",
       "      <td>157.985</td>\n",
       "      <td>4</td>\n",
       "      <td>0.555</td>\n",
       "      <td>4</td>\n",
       "      <td>4</td>\n",
       "    </tr>\n",
       "    <tr>\n",
       "      <th>5635</th>\n",
       "      <td>26QLJMK8G0M06sk7h7Fkse</td>\n",
       "      <td>https://api.spotify.com/v1/tracks/26QLJMK8G0M0...</td>\n",
       "      <td>https://open.spotify.com/track/26QLJMK8G0M06sk...</td>\n",
       "      <td>love is embarrassing</td>\n",
       "      <td>Olivia Rodrigo</td>\n",
       "      <td>GUTS</td>\n",
       "      <td>2023-09-08</td>\n",
       "      <td>155</td>\n",
       "      <td>https://i.scdn.co/image/ab67616d00001e02e85259...</td>\n",
       "      <td>87</td>\n",
       "      <td>...</td>\n",
       "      <td>9</td>\n",
       "      <td>0.156</td>\n",
       "      <td>-3.432</td>\n",
       "      <td>1</td>\n",
       "      <td>0.0968</td>\n",
       "      <td>160.035</td>\n",
       "      <td>4</td>\n",
       "      <td>0.677</td>\n",
       "      <td>4</td>\n",
       "      <td>4</td>\n",
       "    </tr>\n",
       "  </tbody>\n",
       "</table>\n",
       "<p>5 rows × 25 columns</p>\n",
       "</div>"
      ],
      "text/plain": [
       "                    track_id  \\\n",
       "5631  0bILU0UiNDmA5Ff6whhb2R   \n",
       "5623  2gyxAWHebV7xPYVxqoi86f   \n",
       "5617  1BxfuPKGuaTgP7aM0Bbdwr   \n",
       "5638  5twSy6ffBrF03mnNUsUgJZ   \n",
       "5635  26QLJMK8G0M06sk7h7Fkse   \n",
       "\n",
       "                                                   href  \\\n",
       "5631  https://api.spotify.com/v1/tracks/0bILU0UiNDmA...   \n",
       "5623  https://api.spotify.com/v1/tracks/2gyxAWHebV7x...   \n",
       "5617  https://api.spotify.com/v1/tracks/1BxfuPKGuaTg...   \n",
       "5638  https://api.spotify.com/v1/tracks/5twSy6ffBrF0...   \n",
       "5635  https://api.spotify.com/v1/tracks/26QLJMK8G0M0...   \n",
       "\n",
       "                                             track_link            track_name  \\\n",
       "5631  https://open.spotify.com/track/0bILU0UiNDmA5Ff...           Religiously   \n",
       "5623  https://open.spotify.com/track/2gyxAWHebV7xPYV...         get him back!   \n",
       "5617  https://open.spotify.com/track/1BxfuPKGuaTgP7a...          Cruel Summer   \n",
       "5638  https://open.spotify.com/track/5twSy6ffBrF03mn...          Need A Favor   \n",
       "5635  https://open.spotify.com/track/26QLJMK8G0M06sk...  love is embarrassing   \n",
       "\n",
       "                artist               album_name album_release_year  \\\n",
       "5631  Bailey Zimmerman  Religiously. The Album.         2023-05-12   \n",
       "5623    Olivia Rodrigo                     GUTS         2023-09-08   \n",
       "5617      Taylor Swift                    Lover         2019-08-23   \n",
       "5638        Jelly Roll          Whitsitt Chapel         2023-06-02   \n",
       "5635    Olivia Rodrigo                     GUTS         2023-09-08   \n",
       "\n",
       "      track_duration                                        album_image  \\\n",
       "5631             179  https://i.scdn.co/image/ab67616d00001e020c5d03...   \n",
       "5623             211  https://i.scdn.co/image/ab67616d00001e02e85259...   \n",
       "5617             178  https://i.scdn.co/image/ab67616d00001e02e787cf...   \n",
       "5638             197  https://i.scdn.co/image/ab67616d00001e02a72bd2...   \n",
       "5635             155  https://i.scdn.co/image/ab67616d00001e02e85259...   \n",
       "\n",
       "      popularity  ...  key  liveness  loudness  mode  speechiness    tempo  \\\n",
       "5631          85  ...    1     0.108    -6.519     1       0.0274  140.924   \n",
       "5623          91  ...    5     0.607    -5.719     1       0.1810  162.043   \n",
       "5617          99  ...    9     0.105    -5.707     1       0.1570  169.994   \n",
       "5638          80  ...    6     0.078    -4.231     1       0.0319  157.985   \n",
       "5635          87  ...    9     0.156    -3.432     1       0.0968  160.035   \n",
       "\n",
       "      time_signature  valence  clusters_kmeans_8  clusters_kmeans_17  \n",
       "5631               4    0.593                  6                   4  \n",
       "5623               4    0.740                  4                   4  \n",
       "5617               4    0.564                  4                   4  \n",
       "5638               4    0.555                  4                   4  \n",
       "5635               4    0.677                  4                   4  \n",
       "\n",
       "[5 rows x 25 columns]"
      ]
     },
     "execution_count": 6,
     "metadata": {},
     "output_type": "execute_result"
    }
   ],
   "source": [
    "recommended_songs = f.recommend_song(selected_model_name, track_id, 0, 100)\n",
    "\n",
    "recommended_songs"
   ]
  }
 ],
 "metadata": {
  "kernelspec": {
   "display_name": "venv",
   "language": "python",
   "name": "python3"
  },
  "language_info": {
   "codemirror_mode": {
    "name": "ipython",
    "version": 3
   },
   "file_extension": ".py",
   "mimetype": "text/x-python",
   "name": "python",
   "nbconvert_exporter": "python",
   "pygments_lexer": "ipython3",
   "version": "3.10.12"
  }
 },
 "nbformat": 4,
 "nbformat_minor": 5
}
