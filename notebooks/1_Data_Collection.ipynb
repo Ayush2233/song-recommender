{
 "cells": [
  {
   "cell_type": "markdown",
   "metadata": {},
   "source": [
    "# 1 - Data Collection\n",
    "\n",
    "To develop this project, we will use two datasets:\n",
    "A. *Hot100*: top 100 songs in [billboard.com](https://www.billboard.com/charts/hot-100), scraped using BeautifulSoup\n",
    "\n",
    "B. *MillionSongSubset*: a 10000 song subset from the famous [MillionSongDataset](http://millionsongdataset.com)\n"
   ]
  },
  {
   "cell_type": "markdown",
   "metadata": {},
   "source": [
    "## Import Libraries"
   ]
  },
  {
   "cell_type": "code",
   "execution_count": 3,
   "metadata": {},
   "outputs": [],
   "source": [
    "import os\n",
    "import pandas as pd\n",
    "import requests\n",
    "import glob\n",
    "\n",
    "import hdf5_getters\n",
    "\n",
    "from bs4 import BeautifulSoup"
   ]
  },
  {
   "cell_type": "markdown",
   "metadata": {},
   "source": [
    "## 1. Hot100 Dataset"
   ]
  },
  {
   "cell_type": "code",
   "execution_count": 4,
   "metadata": {},
   "outputs": [],
   "source": [
    "# Function to scrape data from the web\n",
    "\n",
    "def scrape_hot100() -> pd.DataFrame:\n",
    "    '''\n",
    "\n",
    "    This function scrapes the top 100 songs from billboard.com and returns a \n",
    "    DataFrame including the song title and artist.\n",
    "\n",
    "    Output:\n",
    "    Pandas DataFrame\n",
    "\n",
    "    '''\n",
    "\n",
    "    # Define the base url\n",
    "    url = \"https://www.billboard.com/charts/hot-100\"\n",
    "    \n",
    "    # Request the url data\n",
    "    response = requests.get(url)\n",
    "\n",
    "    # Create soup\n",
    "    soup = BeautifulSoup(response.text, \"html.parser\")\n",
    "    \n",
    "    # Define select string\n",
    "    title_select = 'div.chart-results-list .c-title.a-truncate-ellipsis'\n",
    "    \n",
    "    # Parse song titles\n",
    "    titles = [li.get_text().strip() for li in soup.select(title_select)]\n",
    "    \n",
    "    # Define artist select\n",
    "    artist_select = 'div.chart-results-list .c-label.a-no-trucate'\n",
    "    \n",
    "    # Parse song artists\n",
    "    artists = [li.get_text().strip() for li in soup.select(artist_select)]\n",
    "\n",
    "    # Create DataFrame\n",
    "    songs = pd.DataFrame({\"title\": titles, \"artist\": artists})\n",
    "\n",
    "    return songs\n"
   ]
  },
  {
   "cell_type": "code",
   "execution_count": null,
   "metadata": {},
   "outputs": [
    {
     "data": {
      "text/html": [
       "<div>\n",
       "<style scoped>\n",
       "    .dataframe tbody tr th:only-of-type {\n",
       "        vertical-align: middle;\n",
       "    }\n",
       "\n",
       "    .dataframe tbody tr th {\n",
       "        vertical-align: top;\n",
       "    }\n",
       "\n",
       "    .dataframe thead th {\n",
       "        text-align: right;\n",
       "    }\n",
       "</style>\n",
       "<table border=\"1\" class=\"dataframe\">\n",
       "  <thead>\n",
       "    <tr style=\"text-align: right;\">\n",
       "      <th></th>\n",
       "      <th>title</th>\n",
       "      <th>artist</th>\n",
       "    </tr>\n",
       "  </thead>\n",
       "  <tbody>\n",
       "    <tr>\n",
       "      <th>0</th>\n",
       "      <td>Vampire</td>\n",
       "      <td>Olivia Rodrigo</td>\n",
       "    </tr>\n",
       "    <tr>\n",
       "      <th>1</th>\n",
       "      <td>Paint The Town Red</td>\n",
       "      <td>Doja Cat</td>\n",
       "    </tr>\n",
       "    <tr>\n",
       "      <th>2</th>\n",
       "      <td>I Remember Everything</td>\n",
       "      <td>Zach Bryan Featuring Kacey Musgraves</td>\n",
       "    </tr>\n",
       "    <tr>\n",
       "      <th>3</th>\n",
       "      <td>Fast Car</td>\n",
       "      <td>Luke Combs</td>\n",
       "    </tr>\n",
       "    <tr>\n",
       "      <th>4</th>\n",
       "      <td>Cruel Summer</td>\n",
       "      <td>Taylor Swift</td>\n",
       "    </tr>\n",
       "  </tbody>\n",
       "</table>\n",
       "</div>"
      ],
      "text/plain": [
       "                   title                                artist\n",
       "0                Vampire                        Olivia Rodrigo\n",
       "1     Paint The Town Red                              Doja Cat\n",
       "2  I Remember Everything  Zach Bryan Featuring Kacey Musgraves\n",
       "3               Fast Car                            Luke Combs\n",
       "4           Cruel Summer                          Taylor Swift"
      ]
     },
     "execution_count": 5,
     "metadata": {},
     "output_type": "execute_result"
    }
   ],
   "source": [
    "# Get hot 100 songs\n",
    "hot100_df = scrape_hot100()\n",
    "\n",
    "# Save as DataFrame\n",
    "hot100_df.to_csv('../data/1_hot100_raw.csv',index = False, sep=\";\")\n",
    "\n",
    "# Show top 5 rows\n",
    "hot100_df.head()"
   ]
  },
  {
   "cell_type": "markdown",
   "metadata": {},
   "source": [
    "## 2. MillionSongSubset"
   ]
  },
  {
   "cell_type": "code",
   "execution_count": 6,
   "metadata": {},
   "outputs": [],
   "source": [
    "# Define function to get all song titles and artists from MillionSongSubset folder (previously downloaded)\n",
    "\n",
    "def get_million_song_subset(basedir,ext='.h5') :\n",
    "    '''\n",
    "    \n",
    "    This function returns a list of all song titles and artists from the MillionSongSubset folder.\n",
    "\n",
    "    '''\n",
    "\n",
    "    titles = []\n",
    "    artists = []\n",
    "    for root, dirs, files in os.walk(basedir):\n",
    "        files = glob.glob(os.path.join(root,'*'+ext))\n",
    "        for f in files:\n",
    "            h5 = hdf5_getters.open_h5_file_read(f)\n",
    "            titles.append( hdf5_getters.get_title(h5) )\n",
    "            artists.append( hdf5_getters.get_artist_name(h5) )\n",
    "            h5.close()\n",
    "    return titles, artists\n"
   ]
  },
  {
   "cell_type": "code",
   "execution_count": 7,
   "metadata": {},
   "outputs": [],
   "source": [
    "# Call function to collect all titles and artists\n",
    "mss_titles, mss_artists = get_million_song_subset('../Data/MillionSongSubset', 'h5')"
   ]
  },
  {
   "cell_type": "code",
   "execution_count": 10,
   "metadata": {},
   "outputs": [
    {
     "data": {
      "text/html": [
       "<div>\n",
       "<style scoped>\n",
       "    .dataframe tbody tr th:only-of-type {\n",
       "        vertical-align: middle;\n",
       "    }\n",
       "\n",
       "    .dataframe tbody tr th {\n",
       "        vertical-align: top;\n",
       "    }\n",
       "\n",
       "    .dataframe thead th {\n",
       "        text-align: right;\n",
       "    }\n",
       "</style>\n",
       "<table border=\"1\" class=\"dataframe\">\n",
       "  <thead>\n",
       "    <tr style=\"text-align: right;\">\n",
       "      <th></th>\n",
       "      <th>title</th>\n",
       "      <th>artist</th>\n",
       "    </tr>\n",
       "  </thead>\n",
       "  <tbody>\n",
       "    <tr>\n",
       "      <th>0</th>\n",
       "      <td>b'Je Sais Que La Terre Est Plate'</td>\n",
       "      <td>b'Rapha\\xc3\\xabl'</td>\n",
       "    </tr>\n",
       "    <tr>\n",
       "      <th>1</th>\n",
       "      <td>b'On Efface'</td>\n",
       "      <td>b'Julie Zenatti'</td>\n",
       "    </tr>\n",
       "    <tr>\n",
       "      <th>2</th>\n",
       "      <td>b'Howells Delight'</td>\n",
       "      <td>b'The Baltimore Consort'</td>\n",
       "    </tr>\n",
       "    <tr>\n",
       "      <th>3</th>\n",
       "      <td>b'Martha Served'</td>\n",
       "      <td>b'I Hate Sally'</td>\n",
       "    </tr>\n",
       "    <tr>\n",
       "      <th>4</th>\n",
       "      <td>b'Zip-A-Dee-Doo-Dah (Song of the South)'</td>\n",
       "      <td>b'Orlando Pops Orchestra'</td>\n",
       "    </tr>\n",
       "  </tbody>\n",
       "</table>\n",
       "</div>"
      ],
      "text/plain": [
       "                                      title                     artist\n",
       "0         b'Je Sais Que La Terre Est Plate'          b'Rapha\\xc3\\xabl'\n",
       "1                              b'On Efface'           b'Julie Zenatti'\n",
       "2                        b'Howells Delight'   b'The Baltimore Consort'\n",
       "3                          b'Martha Served'            b'I Hate Sally'\n",
       "4  b'Zip-A-Dee-Doo-Dah (Song of the South)'  b'Orlando Pops Orchestra'"
      ]
     },
     "execution_count": 10,
     "metadata": {},
     "output_type": "execute_result"
    }
   ],
   "source": [
    "# Create a DataFrame with all titles and artists\n",
    "mss_df = pd.DataFrame({'title': mss_titles, 'artist': mss_artists})\n",
    "\n",
    "# Save DataFrame to csv\n",
    "mss_df.to_csv('../data/2_million_song_subset_raw.csv',index = False, sep=\";\")\n",
    "\n",
    "# Show first 5 rows & shape\n",
    "mss_df.head()"
   ]
  }
 ],
 "metadata": {
  "kernelspec": {
   "display_name": "venv",
   "language": "python",
   "name": "python3"
  },
  "language_info": {
   "codemirror_mode": {
    "name": "ipython",
    "version": 3
   },
   "file_extension": ".py",
   "mimetype": "text/x-python",
   "name": "python",
   "nbconvert_exporter": "python",
   "pygments_lexer": "ipython3",
   "version": "3.10.12"
  },
  "orig_nbformat": 4
 },
 "nbformat": 4,
 "nbformat_minor": 2
}
