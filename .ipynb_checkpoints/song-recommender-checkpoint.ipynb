{
 "cells": [
  {
   "cell_type": "markdown",
   "id": "2e37cb2c-8b50-4984-9b3c-6bf8d4b6331e",
   "metadata": {},
   "source": [
    "# Song Recommender Project"
   ]
  },
  {
   "cell_type": "markdown",
   "id": "3dd45520-3d6b-4825-be6e-6d1ab88a4235",
   "metadata": {},
   "source": [
    "## Import libraries"
   ]
  },
  {
   "cell_type": "code",
   "execution_count": 4,
   "id": "2955e1f4-c6b0-490f-b51f-251d0001fd47",
   "metadata": {},
   "outputs": [],
   "source": [
    "import pandas as pd\n",
    "\n",
    "import functions"
   ]
  },
  {
   "cell_type": "markdown",
   "id": "1948c442-893c-4fab-99d8-5b3a2af10f73",
   "metadata": {},
   "source": [
    "## Load data"
   ]
  },
  {
   "cell_type": "code",
   "execution_count": 5,
   "id": "fb00dcf7-493b-4adc-abd6-d9921d4f76a7",
   "metadata": {},
   "outputs": [],
   "source": [
    "df = pd.read_csv('./data/songs_and_features_kmeans_clustered.csv', sep=';')"
   ]
  },
  {
   "cell_type": "markdown",
   "id": "bc27eaa3-e8c7-4007-8d47-90932364c551",
   "metadata": {},
   "source": [
    "## Load models"
   ]
  },
  {
   "cell_type": "code",
   "execution_count": 6,
   "id": "d1edf3e6-9501-406c-8336-5abd96454b1a",
   "metadata": {},
   "outputs": [
    {
     "name": "stderr",
     "output_type": "stream",
     "text": [
      "/Users/nmirabets/Documents/Ironhack_labs/environments/ev-adoption/lib/python3.10/site-packages/sklearn/base.py:347: InconsistentVersionWarning: Trying to unpickle estimator KMeans from version 1.2.1 when using version 1.3.0. This might lead to breaking code or invalid results. Use at your own risk. For more info please refer to:\n",
      "https://scikit-learn.org/stable/model_persistence.html#security-maintainability-limitations\n",
      "  warnings.warn(\n"
     ]
    }
   ],
   "source": [
    "# Define selected features\n",
    "selected_features = ['energy','danceability','mode', 'speechiness', \n",
    "                     'tempo', 'acousticness', 'instrumentalness', 'valence']\n",
    "\n",
    "# Load models\n",
    "kmeans_9 = functions.read_pickle_file('./models/{}.pkl'.format('kmeans_9'))\n",
    "kmeans_27 = functions.read_pickle_file('./models/{}.pkl'.format('kmeans_27'))\n",
    "\n",
    "# Store models in a dictionary\n",
    "models = {'kmeans_9': kmeans_9,\n",
    "         'kmeans_27': kmeans_27}"
   ]
  },
  {
   "cell_type": "markdown",
   "id": "64ef070c-9840-4868-aa7c-4ea39fa60ebe",
   "metadata": {},
   "source": [
    "## Define user input settings"
   ]
  },
  {
   "cell_type": "code",
   "execution_count": 7,
   "id": "0fe8ab94-a36b-4cfd-99bb-2116a787b51e",
   "metadata": {},
   "outputs": [],
   "source": [
    "# Select model\n",
    "selected_model = 'kmeans_9' # or kmeans_27\n",
    "\n",
    "# Title & artist input by user\n",
    "user_input_title = 'Last Night'\n",
    "user_input_artist = ''"
   ]
  },
  {
   "cell_type": "markdown",
   "id": "7a014d05-8158-40c7-a6ac-a6190ff55a37",
   "metadata": {},
   "source": [
    "## Get input song data"
   ]
  },
  {
   "cell_type": "code",
   "execution_count": 8,
   "id": "19b1ab7e-dd5e-451b-8d22-2345e2d6a8e3",
   "metadata": {},
   "outputs": [],
   "source": [
    "# Get spotify data including track_id\n",
    "sp_song_data = functions.search_song(user_input_title, user_input_artist)"
   ]
  },
  {
   "cell_type": "markdown",
   "id": "03d66981-f913-4090-8e16-c2c9f6591f8e",
   "metadata": {},
   "source": [
    "## User song selection"
   ]
  },
  {
   "cell_type": "code",
   "execution_count": 9,
   "id": "d2fe82ee-dd58-4ab2-9d40-26a34e252742",
   "metadata": {},
   "outputs": [],
   "source": [
    "# User selects index of Spotify search results\n",
    "user_song_selection = 0\n",
    "track_id = sp_song_data[user_song_selection]['track_id']"
   ]
  },
  {
   "cell_type": "markdown",
   "id": "625919bf-1769-4b6a-8022-83bc364e4093",
   "metadata": {},
   "source": [
    "## Song recommendation"
   ]
  },
  {
   "cell_type": "code",
   "execution_count": 10,
   "id": "d6b728f1-fb2f-404f-8eaa-20df1046a81b",
   "metadata": {},
   "outputs": [
    {
     "name": "stdout",
     "output_type": "stream",
     "text": [
      "Audio features download complete. Success rate: 100 %\n",
      "Succesful downloads: 1 Failed downloads: 0\n"
     ]
    },
    {
     "data": {
      "text/html": [
       "<div>\n",
       "<style scoped>\n",
       "    .dataframe tbody tr th:only-of-type {\n",
       "        vertical-align: middle;\n",
       "    }\n",
       "\n",
       "    .dataframe tbody tr th {\n",
       "        vertical-align: top;\n",
       "    }\n",
       "\n",
       "    .dataframe thead th {\n",
       "        text-align: right;\n",
       "    }\n",
       "</style>\n",
       "<table border=\"1\" class=\"dataframe\">\n",
       "  <thead>\n",
       "    <tr style=\"text-align: right;\">\n",
       "      <th></th>\n",
       "      <th>track_id</th>\n",
       "      <th>href</th>\n",
       "      <th>track_link</th>\n",
       "      <th>track_name</th>\n",
       "      <th>artist</th>\n",
       "      <th>album_name</th>\n",
       "      <th>album_release_year</th>\n",
       "      <th>track_duration</th>\n",
       "      <th>album_image</th>\n",
       "      <th>popularity</th>\n",
       "      <th>...</th>\n",
       "      <th>key</th>\n",
       "      <th>liveness</th>\n",
       "      <th>loudness</th>\n",
       "      <th>mode</th>\n",
       "      <th>speechiness</th>\n",
       "      <th>tempo</th>\n",
       "      <th>time_signature</th>\n",
       "      <th>valence</th>\n",
       "      <th>clusters_kmeans_9</th>\n",
       "      <th>clusters_kmeans_27</th>\n",
       "    </tr>\n",
       "  </thead>\n",
       "  <tbody>\n",
       "    <tr>\n",
       "      <th>5686</th>\n",
       "      <td>7l6nGz4gp6HGs5Cvmdeqe4</td>\n",
       "      <td>https://api.spotify.com/v1/tracks/7l6nGz4gp6HG...</td>\n",
       "      <td>https://open.spotify.com/track/7l6nGz4gp6HGs5C...</td>\n",
       "      <td>Fight The Feeling</td>\n",
       "      <td>Rod Wave</td>\n",
       "      <td>Fight The Feeling</td>\n",
       "      <td>2023-03-31</td>\n",
       "      <td>161</td>\n",
       "      <td>https://i.scdn.co/image/ab67616d00001e0275b5e0...</td>\n",
       "      <td>77</td>\n",
       "      <td>...</td>\n",
       "      <td>0</td>\n",
       "      <td>0.099</td>\n",
       "      <td>-9.213</td>\n",
       "      <td>1</td>\n",
       "      <td>0.0603</td>\n",
       "      <td>168.029</td>\n",
       "      <td>5</td>\n",
       "      <td>0.152</td>\n",
       "      <td>3</td>\n",
       "      <td>20</td>\n",
       "    </tr>\n",
       "    <tr>\n",
       "      <th>5669</th>\n",
       "      <td>3yNJkriPzWjkkDAWHIAVUq</td>\n",
       "      <td>https://api.spotify.com/v1/tracks/3yNJkriPzWjk...</td>\n",
       "      <td>https://open.spotify.com/track/3yNJkriPzWjkkDA...</td>\n",
       "      <td>Ours (Taylor’s Version)</td>\n",
       "      <td>Taylor Swift</td>\n",
       "      <td>Speak Now (Taylor's Version)</td>\n",
       "      <td>2023-07-07</td>\n",
       "      <td>236</td>\n",
       "      <td>https://i.scdn.co/image/ab67616d00001e020b04da...</td>\n",
       "      <td>85</td>\n",
       "      <td>...</td>\n",
       "      <td>0</td>\n",
       "      <td>0.111</td>\n",
       "      <td>-8.261</td>\n",
       "      <td>1</td>\n",
       "      <td>0.0278</td>\n",
       "      <td>159.813</td>\n",
       "      <td>4</td>\n",
       "      <td>0.348</td>\n",
       "      <td>3</td>\n",
       "      <td>4</td>\n",
       "    </tr>\n",
       "    <tr>\n",
       "      <th>5647</th>\n",
       "      <td>6dTA6y0C2ReQklntzZl8l3</td>\n",
       "      <td>https://api.spotify.com/v1/tracks/6dTA6y0C2ReQ...</td>\n",
       "      <td>https://open.spotify.com/track/6dTA6y0C2ReQkln...</td>\n",
       "      <td>The Story Of Us (Taylor's Version)</td>\n",
       "      <td>Taylor Swift</td>\n",
       "      <td>Speak Now (Taylor's Version)</td>\n",
       "      <td>2023-07-07</td>\n",
       "      <td>268</td>\n",
       "      <td>https://i.scdn.co/image/ab67616d00001e020b04da...</td>\n",
       "      <td>88</td>\n",
       "      <td>...</td>\n",
       "      <td>4</td>\n",
       "      <td>0.054</td>\n",
       "      <td>-2.608</td>\n",
       "      <td>1</td>\n",
       "      <td>0.0535</td>\n",
       "      <td>139.846</td>\n",
       "      <td>4</td>\n",
       "      <td>0.570</td>\n",
       "      <td>3</td>\n",
       "      <td>16</td>\n",
       "    </tr>\n",
       "    <tr>\n",
       "      <th>5613</th>\n",
       "      <td>59uQI0PADDKeE6UZDTJEe8</td>\n",
       "      <td>https://api.spotify.com/v1/tracks/59uQI0PADDKe...</td>\n",
       "      <td>https://open.spotify.com/track/59uQI0PADDKeE6U...</td>\n",
       "      <td>Last Night</td>\n",
       "      <td>Morgan Wallen</td>\n",
       "      <td>3 Songs At A Time Sampler</td>\n",
       "      <td>2023-01-31</td>\n",
       "      <td>164</td>\n",
       "      <td>https://i.scdn.co/image/ab67616d00001e02fc1df8...</td>\n",
       "      <td>91</td>\n",
       "      <td>...</td>\n",
       "      <td>6</td>\n",
       "      <td>0.151</td>\n",
       "      <td>-5.382</td>\n",
       "      <td>1</td>\n",
       "      <td>0.0357</td>\n",
       "      <td>203.853</td>\n",
       "      <td>4</td>\n",
       "      <td>0.518</td>\n",
       "      <td>3</td>\n",
       "      <td>1</td>\n",
       "    </tr>\n",
       "    <tr>\n",
       "      <th>5627</th>\n",
       "      <td>5twSy6ffBrF03mnNUsUgJZ</td>\n",
       "      <td>https://api.spotify.com/v1/tracks/5twSy6ffBrF0...</td>\n",
       "      <td>https://open.spotify.com/track/5twSy6ffBrF03mn...</td>\n",
       "      <td>Need A Favor</td>\n",
       "      <td>Jelly Roll</td>\n",
       "      <td>Whitsitt Chapel</td>\n",
       "      <td>2023-06-02</td>\n",
       "      <td>197</td>\n",
       "      <td>https://i.scdn.co/image/ab67616d00001e02a72bd2...</td>\n",
       "      <td>82</td>\n",
       "      <td>...</td>\n",
       "      <td>6</td>\n",
       "      <td>0.078</td>\n",
       "      <td>-4.231</td>\n",
       "      <td>1</td>\n",
       "      <td>0.0319</td>\n",
       "      <td>157.985</td>\n",
       "      <td>4</td>\n",
       "      <td>0.555</td>\n",
       "      <td>3</td>\n",
       "      <td>11</td>\n",
       "    </tr>\n",
       "  </tbody>\n",
       "</table>\n",
       "<p>5 rows × 25 columns</p>\n",
       "</div>"
      ],
      "text/plain": [
       "                    track_id  \\\n",
       "5686  7l6nGz4gp6HGs5Cvmdeqe4   \n",
       "5669  3yNJkriPzWjkkDAWHIAVUq   \n",
       "5647  6dTA6y0C2ReQklntzZl8l3   \n",
       "5613  59uQI0PADDKeE6UZDTJEe8   \n",
       "5627  5twSy6ffBrF03mnNUsUgJZ   \n",
       "\n",
       "                                                   href  \\\n",
       "5686  https://api.spotify.com/v1/tracks/7l6nGz4gp6HG...   \n",
       "5669  https://api.spotify.com/v1/tracks/3yNJkriPzWjk...   \n",
       "5647  https://api.spotify.com/v1/tracks/6dTA6y0C2ReQ...   \n",
       "5613  https://api.spotify.com/v1/tracks/59uQI0PADDKe...   \n",
       "5627  https://api.spotify.com/v1/tracks/5twSy6ffBrF0...   \n",
       "\n",
       "                                             track_link  \\\n",
       "5686  https://open.spotify.com/track/7l6nGz4gp6HGs5C...   \n",
       "5669  https://open.spotify.com/track/3yNJkriPzWjkkDA...   \n",
       "5647  https://open.spotify.com/track/6dTA6y0C2ReQkln...   \n",
       "5613  https://open.spotify.com/track/59uQI0PADDKeE6U...   \n",
       "5627  https://open.spotify.com/track/5twSy6ffBrF03mn...   \n",
       "\n",
       "                              track_name         artist  \\\n",
       "5686                   Fight The Feeling       Rod Wave   \n",
       "5669             Ours (Taylor’s Version)   Taylor Swift   \n",
       "5647  The Story Of Us (Taylor's Version)   Taylor Swift   \n",
       "5613                          Last Night  Morgan Wallen   \n",
       "5627                        Need A Favor     Jelly Roll   \n",
       "\n",
       "                        album_name album_release_year  track_duration  \\\n",
       "5686             Fight The Feeling         2023-03-31             161   \n",
       "5669  Speak Now (Taylor's Version)         2023-07-07             236   \n",
       "5647  Speak Now (Taylor's Version)         2023-07-07             268   \n",
       "5613     3 Songs At A Time Sampler         2023-01-31             164   \n",
       "5627               Whitsitt Chapel         2023-06-02             197   \n",
       "\n",
       "                                            album_image  popularity  ...  key  \\\n",
       "5686  https://i.scdn.co/image/ab67616d00001e0275b5e0...          77  ...    0   \n",
       "5669  https://i.scdn.co/image/ab67616d00001e020b04da...          85  ...    0   \n",
       "5647  https://i.scdn.co/image/ab67616d00001e020b04da...          88  ...    4   \n",
       "5613  https://i.scdn.co/image/ab67616d00001e02fc1df8...          91  ...    6   \n",
       "5627  https://i.scdn.co/image/ab67616d00001e02a72bd2...          82  ...    6   \n",
       "\n",
       "      liveness  loudness  mode  speechiness    tempo  time_signature  valence  \\\n",
       "5686     0.099    -9.213     1       0.0603  168.029               5    0.152   \n",
       "5669     0.111    -8.261     1       0.0278  159.813               4    0.348   \n",
       "5647     0.054    -2.608     1       0.0535  139.846               4    0.570   \n",
       "5613     0.151    -5.382     1       0.0357  203.853               4    0.518   \n",
       "5627     0.078    -4.231     1       0.0319  157.985               4    0.555   \n",
       "\n",
       "      clusters_kmeans_9  clusters_kmeans_27  \n",
       "5686                  3                  20  \n",
       "5669                  3                   4  \n",
       "5647                  3                  16  \n",
       "5613                  3                   1  \n",
       "5627                  3                  11  \n",
       "\n",
       "[5 rows x 25 columns]"
      ]
     },
     "execution_count": 10,
     "metadata": {},
     "output_type": "execute_result"
    }
   ],
   "source": [
    "recommended_songs = functions.recommend_song(df, selected_model, models, selected_features, track_id, 0, 100)\n",
    "\n",
    "recommended_songs"
   ]
  },
  {
   "cell_type": "code",
   "execution_count": null,
   "id": "9a3cfc5a-86ce-45c4-9db7-f2cde570c164",
   "metadata": {},
   "outputs": [],
   "source": []
  }
 ],
 "metadata": {
  "kernelspec": {
   "display_name": "ev-adoption",
   "language": "python",
   "name": "ev-adoption"
  },
  "language_info": {
   "codemirror_mode": {
    "name": "ipython",
    "version": 3
   },
   "file_extension": ".py",
   "mimetype": "text/x-python",
   "name": "python",
   "nbconvert_exporter": "python",
   "pygments_lexer": "ipython3",
   "version": "3.10.12"
  }
 },
 "nbformat": 4,
 "nbformat_minor": 5
}
